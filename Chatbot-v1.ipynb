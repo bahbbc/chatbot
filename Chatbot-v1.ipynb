{
 "cells": [
  {
   "cell_type": "code",
   "execution_count": 2,
   "metadata": {
    "collapsed": true
   },
   "outputs": [],
   "source": [
    "import numpy as np\n",
    "import tensorflow as tf\n",
    "import re\n",
    "import time"
   ]
  },
  {
   "cell_type": "markdown",
   "metadata": {},
   "source": [
    "## Dataset do cornell_movie_dialogs_corpus"
   ]
  },
  {
   "cell_type": "code",
   "execution_count": 3,
   "metadata": {
    "collapsed": true
   },
   "outputs": [],
   "source": [
    "lines = open('movie_lines.txt', encoding='utf-8', errors='ignore').read().split('\\n')\n",
    "conversations = open('movie_conversations.txt', encoding='utf-8', errors='ignore').read().split('\\n')"
   ]
  },
  {
   "cell_type": "code",
   "execution_count": 4,
   "metadata": {},
   "outputs": [
    {
     "data": {
      "text/plain": [
       "['L1045 +++$+++ u0 +++$+++ m0 +++$+++ BIANCA +++$+++ They do not!',\n",
       " 'L1044 +++$+++ u2 +++$+++ m0 +++$+++ CAMERON +++$+++ They do to!',\n",
       " 'L985 +++$+++ u0 +++$+++ m0 +++$+++ BIANCA +++$+++ I hope so.',\n",
       " 'L984 +++$+++ u2 +++$+++ m0 +++$+++ CAMERON +++$+++ She okay?',\n",
       " \"L925 +++$+++ u0 +++$+++ m0 +++$+++ BIANCA +++$+++ Let's go.\",\n",
       " 'L924 +++$+++ u2 +++$+++ m0 +++$+++ CAMERON +++$+++ Wow',\n",
       " \"L872 +++$+++ u0 +++$+++ m0 +++$+++ BIANCA +++$+++ Okay -- you're gonna need to learn how to lie.\",\n",
       " 'L871 +++$+++ u2 +++$+++ m0 +++$+++ CAMERON +++$+++ No',\n",
       " 'L870 +++$+++ u0 +++$+++ m0 +++$+++ BIANCA +++$+++ I\\'m kidding.  You know how sometimes you just become this \"persona\"?  And you don\\'t know how to quit?',\n",
       " 'L869 +++$+++ u0 +++$+++ m0 +++$+++ BIANCA +++$+++ Like my fear of wearing pastels?']"
      ]
     },
     "execution_count": 4,
     "metadata": {},
     "output_type": "execute_result"
    }
   ],
   "source": [
    "lines[:10]"
   ]
  },
  {
   "cell_type": "code",
   "execution_count": 5,
   "metadata": {},
   "outputs": [
    {
     "data": {
      "text/plain": [
       "[\"u0 +++$+++ u2 +++$+++ m0 +++$+++ ['L194', 'L195', 'L196', 'L197']\",\n",
       " \"u0 +++$+++ u2 +++$+++ m0 +++$+++ ['L198', 'L199']\",\n",
       " \"u0 +++$+++ u2 +++$+++ m0 +++$+++ ['L200', 'L201', 'L202', 'L203']\",\n",
       " \"u0 +++$+++ u2 +++$+++ m0 +++$+++ ['L204', 'L205', 'L206']\",\n",
       " \"u0 +++$+++ u2 +++$+++ m0 +++$+++ ['L207', 'L208']\",\n",
       " \"u0 +++$+++ u2 +++$+++ m0 +++$+++ ['L271', 'L272', 'L273', 'L274', 'L275']\",\n",
       " \"u0 +++$+++ u2 +++$+++ m0 +++$+++ ['L276', 'L277']\",\n",
       " \"u0 +++$+++ u2 +++$+++ m0 +++$+++ ['L280', 'L281']\",\n",
       " \"u0 +++$+++ u2 +++$+++ m0 +++$+++ ['L363', 'L364']\",\n",
       " \"u0 +++$+++ u2 +++$+++ m0 +++$+++ ['L365', 'L366']\"]"
      ]
     },
     "execution_count": 5,
     "metadata": {},
     "output_type": "execute_result"
    }
   ],
   "source": [
    "conversations[:10]"
   ]
  },
  {
   "cell_type": "code",
   "execution_count": 6,
   "metadata": {
    "collapsed": true
   },
   "outputs": [],
   "source": [
    "def clean_text(text):\n",
    "    text = text.lower()\n",
    "    text = re.sub(r\"i'm\", \"i am\", text)\n",
    "    text = re.sub(r\"he's\", \"he is\", text)\n",
    "    text = re.sub(r\"she's\", \"she is\", text)\n",
    "    text = re.sub(r\"that's\", \"that is\", text)\n",
    "    text = re.sub(r\"what's\", \"what is\", text)\n",
    "    text = re.sub(r\"where's\", \"where is\", text)\n",
    "    text = re.sub(r\"\\'ll\", \" will\", text)\n",
    "    text = re.sub(r\"\\'re\", \" are\", text)\n",
    "    text = re.sub(r\"\\'d\", \" would\", text)\n",
    "    text = re.sub(r\"won't\", \"will not\", text)\n",
    "    text = re.sub(r\"can't\", \"can not\", text)\n",
    "    text = re.sub(r\"[-()\\\"#/@;:<>{}+=~|.?,]\", \"\", text)\n",
    "    return text"
   ]
  },
  {
   "cell_type": "markdown",
   "metadata": {},
   "source": [
    "## Limpa a sujeira do dataset original"
   ]
  },
  {
   "cell_type": "code",
   "execution_count": 7,
   "metadata": {
    "collapsed": true
   },
   "outputs": [],
   "source": [
    "id2line = {}\n",
    "for line in lines:\n",
    "    _line = line.split(' +++$+++ ')\n",
    "    if len(_line) == 5:\n",
    "        id2line[_line[0]] = _line[4]"
   ]
  },
  {
   "cell_type": "code",
   "execution_count": 8,
   "metadata": {
    "collapsed": true
   },
   "outputs": [],
   "source": [
    "# Creating a list of all of the conversations\n",
    "conversations_ids = []\n",
    "for conversation in conversations[:-1]:\n",
    "    _conversation = conversation.split(' +++$+++ ')[-1][1:-1].replace(\"'\", \"\").replace(\" \", \"\")\n",
    "    conversations_ids.append(_conversation.split(','))\n",
    "\n",
    "# Getting separately the questions and the answers\n",
    "questions = []\n",
    "answers = []\n",
    "for conversation in conversations_ids:\n",
    "    for i in range(len(conversation) - 1):\n",
    "        questions.append(id2line[conversation[i]])\n",
    "        answers.append(id2line[conversation[i+1]])"
   ]
  },
  {
   "cell_type": "code",
   "execution_count": 9,
   "metadata": {
    "collapsed": true
   },
   "outputs": [],
   "source": [
    "# Cleaning the questions\n",
    "clean_questions = []\n",
    "for question in questions:\n",
    "    clean_questions.append(clean_text(question))\n",
    "\n",
    "# Cleaning the answers\n",
    "clean_answers = []\n",
    "for answer in answers:\n",
    "    clean_answers.append(clean_text(answer))"
   ]
  },
  {
   "cell_type": "code",
   "execution_count": 10,
   "metadata": {},
   "outputs": [
    {
     "data": {
      "text/plain": [
       "['Can we make this quick?  Roxanne Korrine and Andrew Barrett are having an incredibly horrendous public break- up on the quad.  Again.',\n",
       " \"Well, I thought we'd start with pronunciation, if that's okay with you.\",\n",
       " 'Not the hacking and gagging and spitting part.  Please.',\n",
       " \"You're asking me out.  That's so cute. What's your name again?\",\n",
       " \"No, no, it's my fault -- we didn't have a proper introduction ---\",\n",
       " 'Cameron.',\n",
       " \"The thing is, Cameron -- I'm at the mercy of a particularly hideous breed of loser.  My sister.  I can't date until she does.\",\n",
       " 'Why?',\n",
       " 'Unsolved mystery.  She used to be really popular when she started high school, then it was just like she got sick of it or something.',\n",
       " 'Gosh, if only we could find Kat a boyfriend...']"
      ]
     },
     "execution_count": 10,
     "metadata": {},
     "output_type": "execute_result"
    }
   ],
   "source": [
    "questions[:10]"
   ]
  },
  {
   "cell_type": "code",
   "execution_count": 11,
   "metadata": {},
   "outputs": [
    {
     "data": {
      "text/plain": [
       "[\"Well, I thought we'd start with pronunciation, if that's okay with you.\",\n",
       " 'Not the hacking and gagging and spitting part.  Please.',\n",
       " \"Okay... then how 'bout we try out some French cuisine.  Saturday?  Night?\",\n",
       " 'Forget it.',\n",
       " 'Cameron.',\n",
       " \"The thing is, Cameron -- I'm at the mercy of a particularly hideous breed of loser.  My sister.  I can't date until she does.\",\n",
       " 'Seems like she could get a date easy enough...',\n",
       " 'Unsolved mystery.  She used to be really popular when she started high school, then it was just like she got sick of it or something.',\n",
       " \"That's a shame.\",\n",
       " 'Let me see what I can do.']"
      ]
     },
     "execution_count": 11,
     "metadata": {},
     "output_type": "execute_result"
    }
   ],
   "source": [
    "answers[:10]"
   ]
  },
  {
   "cell_type": "markdown",
   "metadata": {},
   "source": [
    "## Pre processamento textual"
   ]
  },
  {
   "cell_type": "code",
   "execution_count": 12,
   "metadata": {
    "collapsed": true
   },
   "outputs": [],
   "source": [
    "# Creating a dictionary that maps each word to its number of occurrences\n",
    "word2count = {}\n",
    "for question in clean_questions:\n",
    "    for word in question.split():\n",
    "        if word not in word2count:\n",
    "            word2count[word] = 1\n",
    "        else:\n",
    "            word2count[word] += 1\n",
    "for answer in clean_answers:\n",
    "    for word in answer.split():\n",
    "        if word not in word2count:\n",
    "            word2count[word] = 1\n",
    "        else:\n",
    "            word2count[word] += 1"
   ]
  },
  {
   "cell_type": "code",
   "execution_count": 13,
   "metadata": {},
   "outputs": [
    {
     "data": {
      "text/plain": [
       "['can we make this quick  roxanne korrine and andrew barrett are having an incredibly horrendous public break up on the quad  again',\n",
       " 'well i thought we would start with pronunciation if that is okay with you',\n",
       " 'not the hacking and gagging and spitting part  please',\n",
       " 'you are asking me out  that is so cute what is your name again',\n",
       " \"no no it's my fault  we didn't have a proper introduction \",\n",
       " 'cameron',\n",
       " 'the thing is cameron  i am at the mercy of a particularly hideous breed of loser  my sister  i can not date until she does',\n",
       " 'why',\n",
       " 'unsolved mystery  she used to be really popular when she started high school then it was just like she got sick of it or something',\n",
       " 'gosh if only we could find kat a boyfriend']"
      ]
     },
     "execution_count": 13,
     "metadata": {},
     "output_type": "execute_result"
    }
   ],
   "source": [
    "clean_questions[:10]"
   ]
  },
  {
   "cell_type": "code",
   "execution_count": 14,
   "metadata": {},
   "outputs": [
    {
     "data": {
      "text/plain": [
       "['well i thought we would start with pronunciation if that is okay with you',\n",
       " 'not the hacking and gagging and spitting part  please',\n",
       " \"okay then how 'bout we try out some french cuisine  saturday  night\",\n",
       " 'forget it',\n",
       " 'cameron',\n",
       " 'the thing is cameron  i am at the mercy of a particularly hideous breed of loser  my sister  i can not date until she does',\n",
       " 'seems like she could get a date easy enough',\n",
       " 'unsolved mystery  she used to be really popular when she started high school then it was just like she got sick of it or something',\n",
       " 'that is a shame',\n",
       " 'let me see what i can do']"
      ]
     },
     "execution_count": 14,
     "metadata": {},
     "output_type": "execute_result"
    }
   ],
   "source": [
    "clean_answers[:10]"
   ]
  },
  {
   "cell_type": "markdown",
   "metadata": {},
   "source": [
    "## Add EOS (End of sentence), PAD, OUT, SOS (start of sentence)"
   ]
  },
  {
   "cell_type": "code",
   "execution_count": 15,
   "metadata": {
    "collapsed": true
   },
   "outputs": [],
   "source": [
    "# Creating two dictionaries that map the questions words and the answers words to a unique integer\n",
    "threshold_questions = 20\n",
    "questionswords2int = {}\n",
    "word_number = 0\n",
    "for word, count in word2count.items():\n",
    "    if count >= threshold_questions:\n",
    "        questionswords2int[word] = word_number\n",
    "        word_number += 1\n",
    "threshold_answers = 20\n",
    "answerswords2int = {}\n",
    "word_number = 0\n",
    "for word, count in word2count.items():\n",
    "    if count >= threshold_answers:\n",
    "        answerswords2int[word] = word_number\n",
    "        word_number += 1"
   ]
  },
  {
   "cell_type": "code",
   "execution_count": 16,
   "metadata": {
    "collapsed": true
   },
   "outputs": [],
   "source": [
    "# Adding the last tokens to these two dictionaries\n",
    "tokens = ['<PAD>', '<EOS>', '<OUT>', '<SOS>']\n",
    "for token in tokens:\n",
    "    questionswords2int[token] = len(questionswords2int) + 1\n",
    "for token in tokens:\n",
    "    answerswords2int[token] = len(answerswords2int) + 1"
   ]
  },
  {
   "cell_type": "code",
   "execution_count": 17,
   "metadata": {
    "collapsed": true
   },
   "outputs": [],
   "source": [
    "# Creating the inverse dictionary of the answerswords2int dictionary\n",
    "answersints2word = {w_i: w for w, w_i in answerswords2int.items()}"
   ]
  },
  {
   "cell_type": "code",
   "execution_count": 18,
   "metadata": {
    "collapsed": true
   },
   "outputs": [],
   "source": [
    "# Adding the End Of String token to the end of every answer\n",
    "for i in range(len(clean_answers)):\n",
    "    clean_answers[i] += ' <EOS>'"
   ]
  },
  {
   "cell_type": "code",
   "execution_count": 19,
   "metadata": {
    "collapsed": true
   },
   "outputs": [],
   "source": [
    "# Translating all the questions and the answers into integers\n",
    "# and Replacing all the words that were filtered out by <OUT> \n",
    "questions_into_int = []\n",
    "for question in clean_questions:\n",
    "    ints = []\n",
    "    for word in question.split():\n",
    "        if word not in questionswords2int:\n",
    "            ints.append(questionswords2int['<OUT>'])\n",
    "        else:\n",
    "            ints.append(questionswords2int[word])\n",
    "    questions_into_int.append(ints)\n",
    "answers_into_int = []\n",
    "for answer in clean_answers:\n",
    "    ints = []\n",
    "    for word in answer.split():\n",
    "        if word not in answerswords2int:\n",
    "            ints.append(answerswords2int['<OUT>'])\n",
    "        else:\n",
    "            ints.append(answerswords2int[word])\n",
    "    answers_into_int.append(ints)"
   ]
  },
  {
   "cell_type": "code",
   "execution_count": 20,
   "metadata": {
    "collapsed": true
   },
   "outputs": [],
   "source": [
    "# Sorting questions and answers by the length of questions\n",
    "sorted_clean_questions = []\n",
    "sorted_clean_answers = []\n",
    "for length in range(1, 25 + 1):\n",
    "    for i in enumerate(questions_into_int):\n",
    "        if len(i[1]) == length:\n",
    "            sorted_clean_questions.append(questions_into_int[i[0]])\n",
    "            sorted_clean_answers.append(answers_into_int[i[0]])"
   ]
  },
  {
   "cell_type": "markdown",
   "metadata": {},
   "source": [
    "# Seq2Seq"
   ]
  },
  {
   "cell_type": "code",
   "execution_count": 21,
   "metadata": {
    "collapsed": true
   },
   "outputs": [],
   "source": [
    "# Creating placeholders for the inputs and the targets\n",
    "def model_inputs():\n",
    "    inputs = tf.placeholder(tf.int32, [None, None], name = 'input')\n",
    "    targets = tf.placeholder(tf.int32, [None, None], name = 'target')\n",
    "    lr = tf.placeholder(tf.float32, name = 'learning_rate')\n",
    "    keep_prob = tf.placeholder(tf.float32, name = 'keep_prob')\n",
    "    return inputs, targets, lr, keep_prob"
   ]
  },
  {
   "cell_type": "code",
   "execution_count": 22,
   "metadata": {
    "collapsed": true
   },
   "outputs": [],
   "source": [
    "# Preprocessing the targets\n",
    "def preprocess_targets(targets, word2int, batch_size):\n",
    "    left_side = tf.fill([batch_size, 1], word2int['<SOS>'])\n",
    "    right_side = tf.strided_slice(targets, [0,0], [batch_size, -1], [1,1])\n",
    "    preprocessed_targets = tf.concat([left_side, right_side], 1)\n",
    "    return preprocessed_targets"
   ]
  },
  {
   "cell_type": "code",
   "execution_count": 23,
   "metadata": {
    "collapsed": true
   },
   "outputs": [],
   "source": [
    "# Creating the Encoder RNN\n",
    "def encoder_rnn(rnn_inputs, rnn_size, num_layers, keep_prob, sequence_length):\n",
    "    lstm = tf.contrib.rnn.BasicLSTMCell(rnn_size)\n",
    "    lstm_dropout = tf.contrib.rnn.DropoutWrapper(lstm, input_keep_prob = keep_prob)\n",
    "    encoder_cell = tf.contrib.rnn.MultiRNNCell([lstm_dropout] * num_layers)\n",
    "    encoder_output, encoder_state = tf.nn.bidirectional_dynamic_rnn(cell_fw = encoder_cell,\n",
    "                                                                    cell_bw = encoder_cell,\n",
    "                                                                    sequence_length = sequence_length,\n",
    "                                                                    inputs = rnn_inputs,\n",
    "                                                                    dtype = tf.float32)\n",
    "    return encoder_state"
   ]
  },
  {
   "cell_type": "code",
   "execution_count": 24,
   "metadata": {
    "collapsed": true
   },
   "outputs": [],
   "source": [
    "def decode_training_set(encoder_state, decoder_cell, decoder_embedded_input, sequence_length, decoding_scope, output_function, keep_prob, batch_size):\n",
    "    attention_states = tf.zeros([batch_size, 1, decoder_cell.output_size])\n",
    "    attention_keys, attention_values, attention_score_function, attention_construct_function = tf.contrib.seq2seq.prepare_attention(attention_states, attention_option = \"bahdanau\", num_units = decoder_cell.output_size)\n",
    "    training_decoder_function = tf.contrib.seq2seq.attention_decoder_fn_train(encoder_state[0],\n",
    "                                                                              attention_keys,\n",
    "                                                                              attention_values,\n",
    "                                                                              attention_score_function,\n",
    "                                                                              attention_construct_function,\n",
    "                                                                              name = \"attn_dec_train\")\n",
    "    decoder_output, decoder_final_state, decoder_final_context_state = tf.contrib.seq2seq.dynamic_rnn_decoder(decoder_cell,\n",
    "                                                                                                              training_decoder_function,\n",
    "                                                                                                              decoder_embedded_input,\n",
    "                                                                                                              sequence_length,\n",
    "                                                                                                              scope = decoding_scope)\n",
    "    decoder_output_dropout = tf.nn.dropout(decoder_output, keep_prob)\n",
    "    return output_function(decoder_output_dropout)"
   ]
  },
  {
   "cell_type": "code",
   "execution_count": 25,
   "metadata": {
    "collapsed": true
   },
   "outputs": [],
   "source": [
    "def decode_test_set(encoder_state, decoder_cell, decoder_embeddings_matrix, sos_id, eos_id, maximum_length, num_words, decoding_scope, output_function, keep_prob, batch_size):\n",
    "    attention_states = tf.zeros([batch_size, 1, decoder_cell.output_size])\n",
    "    attention_keys, attention_values, attention_score_function, attention_construct_function = tf.contrib.seq2seq.prepare_attention(attention_states, attention_option = \"bahdanau\", num_units = decoder_cell.output_size)\n",
    "    test_decoder_function = tf.contrib.seq2seq.attention_decoder_fn_inference(output_function,\n",
    "                                                                              encoder_state[0],\n",
    "                                                                              attention_keys,\n",
    "                                                                              attention_values,\n",
    "                                                                              attention_score_function,\n",
    "                                                                              attention_construct_function,\n",
    "                                                                              decoder_embeddings_matrix,\n",
    "                                                                              sos_id,\n",
    "                                                                              eos_id,\n",
    "                                                                              maximum_length,\n",
    "                                                                              num_words,\n",
    "                                                                              name = \"attn_dec_inf\")\n",
    "    test_predictions, decoder_final_state, decoder_final_context_state = tf.contrib.seq2seq.dynamic_rnn_decoder(decoder_cell,\n",
    "                                                                                                                test_decoder_function,\n",
    "                                                                                                                scope = decoding_scope)\n",
    "    return test_predictions"
   ]
  },
  {
   "cell_type": "code",
   "execution_count": 26,
   "metadata": {
    "collapsed": true
   },
   "outputs": [],
   "source": [
    "def decoder_rnn(decoder_embedded_input, decoder_embeddings_matrix, encoder_state, num_words, sequence_length, rnn_size, num_layers, word2int, keep_prob, batch_size):\n",
    "    with tf.variable_scope(\"decoding\") as decoding_scope:\n",
    "        lstm = tf.contrib.rnn.BasicLSTMCell(rnn_size)\n",
    "        lstm_dropout = tf.contrib.rnn.DropoutWrapper(lstm, input_keep_prob = keep_prob)\n",
    "        decoder_cell = tf.contrib.rnn.MultiRNNCell([lstm_dropout] * num_layers)\n",
    "        weights = tf.truncated_normal_initializer(stddev = 0.1)\n",
    "        biases = tf.zeros_initializer()\n",
    "        output_function = lambda x: tf.contrib.layers.fully_connected(x,\n",
    "                                                                      num_words,\n",
    "                                                                      None,\n",
    "                                                                      scope = decoding_scope,\n",
    "                                                                      weights_initializer = weights,\n",
    "                                                                      biases_initializer = biases)\n",
    "        training_predictions = decode_training_set(encoder_state,\n",
    "                                                   decoder_cell,\n",
    "                                                   decoder_embedded_input,\n",
    "                                                   sequence_length,\n",
    "                                                   decoding_scope,\n",
    "                                                   output_function,\n",
    "                                                   keep_prob,\n",
    "                                                   batch_size)\n",
    "        decoding_scope.reuse_variables()\n",
    "        test_predictions = decode_test_set(encoder_state,\n",
    "                                           decoder_cell,\n",
    "                                           decoder_embeddings_matrix,\n",
    "                                           word2int['<SOS>'],\n",
    "                                           word2int['<EOS>'],\n",
    "                                           sequence_length - 1,\n",
    "                                           num_words,\n",
    "                                           decoding_scope,\n",
    "                                           output_function,\n",
    "                                           keep_prob,\n",
    "                                           batch_size)\n",
    "    return training_predictions, test_predictions\n",
    " \n",
    "# Building the seq2seq model\n",
    "def seq2seq_model(inputs, targets, keep_prob, batch_size, sequence_length, answers_num_words, questions_num_words, encoder_embedding_size, decoder_embedding_size, rnn_size, num_layers, questionswords2int):\n",
    "    encoder_embedded_input = tf.contrib.layers.embed_sequence(inputs,\n",
    "                                                              answers_num_words + 1,\n",
    "                                                              encoder_embedding_size,\n",
    "                                                              initializer = tf.random_uniform_initializer(0, 1))\n",
    "    encoder_state = encoder_rnn(encoder_embedded_input, rnn_size, num_layers, keep_prob, sequence_length)\n",
    "    preprocessed_targets = preprocess_targets(targets, questionswords2int, batch_size)\n",
    "    decoder_embeddings_matrix = tf.Variable(tf.random_uniform([questions_num_words + 1, decoder_embedding_size], 0, 1))\n",
    "    decoder_embedded_input = tf.nn.embedding_lookup(decoder_embeddings_matrix, preprocessed_targets)\n",
    "    training_predictions, test_predictions = decoder_rnn(decoder_embedded_input,\n",
    "                                                         decoder_embeddings_matrix,\n",
    "                                                         encoder_state,\n",
    "                                                         questions_num_words,\n",
    "                                                         sequence_length,\n",
    "                                                         rnn_size,\n",
    "                                                         num_layers,\n",
    "                                                         questionswords2int,\n",
    "                                                         keep_prob,\n",
    "                                                         batch_size)\n",
    "    return training_predictions, test_predictions\n",
    " \n"
   ]
  },
  {
   "cell_type": "markdown",
   "metadata": {},
   "source": [
    "## Training"
   ]
  },
  {
   "cell_type": "code",
   "execution_count": 28,
   "metadata": {
    "collapsed": true
   },
   "outputs": [],
   "source": [
    "# Setting the Hyperparameters\n",
    "epochs = 100\n",
    "batch_size = 64\n",
    "rnn_size = 512\n",
    "num_layers = 3\n",
    "encoding_embedding_size = 512\n",
    "decoding_embedding_size = 512\n",
    "learning_rate = 0.01\n",
    "learning_rate_decay = 0.9\n",
    "min_learning_rate = 0.0001\n",
    "keep_probability = 0.5\n",
    " \n",
    "# Defining a session\n",
    "tf.reset_default_graph()\n",
    "session = tf.InteractiveSession()\n",
    " \n",
    "# Loading the model inputs\n",
    "inputs, targets, lr, keep_prob = model_inputs()\n",
    " \n",
    "# Setting the sequence length\n",
    "sequence_length = tf.placeholder_with_default(25, None, name = 'sequence_length')\n",
    " \n",
    "# Getting the shape of the inputs tensor\n",
    "input_shape = tf.shape(inputs)"
   ]
  },
  {
   "cell_type": "code",
   "execution_count": 29,
   "metadata": {
    "collapsed": true
   },
   "outputs": [],
   "source": [
    "# Getting the training and test predictions\n",
    "training_predictions, test_predictions = seq2seq_model(tf.reverse(inputs, [-1]),\n",
    "                                                       targets,\n",
    "                                                       keep_prob,\n",
    "                                                       batch_size,\n",
    "                                                       sequence_length,\n",
    "                                                       len(answerswords2int),\n",
    "                                                       len(questionswords2int),\n",
    "                                                       encoding_embedding_size,\n",
    "                                                       decoding_embedding_size,\n",
    "                                                       rnn_size,\n",
    "                                                       num_layers,\n",
    "                                                       questionswords2int)"
   ]
  },
  {
   "cell_type": "code",
   "execution_count": 30,
   "metadata": {
    "collapsed": true
   },
   "outputs": [],
   "source": [
    "# Setting up the Loss Error, the Optimizer and Gradient Clipping\n",
    "with tf.name_scope(\"optimization\"):\n",
    "    loss_error = tf.contrib.seq2seq.sequence_loss(training_predictions,\n",
    "                                                  targets,\n",
    "                                                  tf.ones([input_shape[0], sequence_length]))\n",
    "    optimizer = tf.train.AdamOptimizer(learning_rate)\n",
    "    gradients = optimizer.compute_gradients(loss_error)\n",
    "    clipped_gradients = [(tf.clip_by_value(grad_tensor, -5., 5.), grad_variable) for grad_tensor, \n",
    "                         grad_variable in gradients if grad_tensor is not None]\n",
    "    optimizer_gradient_clipping = optimizer.apply_gradients(clipped_gradients)"
   ]
  },
  {
   "cell_type": "code",
   "execution_count": 31,
   "metadata": {
    "collapsed": true
   },
   "outputs": [],
   "source": [
    "# Padding the sequences with the <PAD> token\n",
    "def apply_padding(batch_of_sequences, word2int):\n",
    "    max_sequence_length = max([len(sequence) for sequence in batch_of_sequences])\n",
    "    return [sequence + [word2int['<PAD>']] * (max_sequence_length - len(sequence)) \\\n",
    "            for sequence in batch_of_sequences]\n",
    " \n",
    "# Splitting the data into batches of questions and answers\n",
    "def split_into_batches(questions, answers, batch_size):\n",
    "    for batch_index in range(0, len(questions) // batch_size):\n",
    "        start_index = batch_index * batch_size\n",
    "        questions_in_batch = questions[start_index : start_index + batch_size]\n",
    "        answers_in_batch = answers[start_index : start_index + batch_size]\n",
    "        padded_questions_in_batch = np.array(apply_padding(questions_in_batch, questionswords2int))\n",
    "        padded_answers_in_batch = np.array(apply_padding(answers_in_batch, answerswords2int))\n",
    "        yield padded_questions_in_batch, padded_answers_in_batch\n",
    " "
   ]
  },
  {
   "cell_type": "code",
   "execution_count": 32,
   "metadata": {
    "collapsed": true
   },
   "outputs": [],
   "source": [
    "# Splitting the data into batches of questions and answers\n",
    "\n",
    "def split_into_batches(questions, answers, batch_size):\n",
    "    for batch_index in range(0, len(questions) // batch_size):\n",
    "        start_index = batch_index * batch_size\n",
    "        questions_in_batch = questions[start_index : start_index + batch_size]\n",
    "        answers_in_batch = answers[start_index : start_index + batch_size]\n",
    "        padded_questions_in_batch = np.array(apply_padding(questions_in_batch, questionswords2int))\n",
    "        padded_answers_in_batch = np.array(apply_padding(answers_in_batch, answerswords2int))\n",
    "        yield padded_questions_in_batch, padded_answers_in_batch"
   ]
  },
  {
   "cell_type": "code",
   "execution_count": 32,
   "metadata": {
    "collapsed": true
   },
   "outputs": [],
   "source": [
    "# Splitting the questions and answers into training and validation sets\n",
    "training_validation_split = int(len(sorted_clean_questions) * 0.15)\n",
    "training_questions = sorted_clean_questions[training_validation_split:]\n",
    "training_answers = sorted_clean_answers[training_validation_split:]\n",
    "validation_questions = sorted_clean_questions[:training_validation_split]\n",
    "validation_answers = sorted_clean_answers[:training_validation_split]"
   ]
  },
  {
   "cell_type": "code",
   "execution_count": null,
   "metadata": {
    "scrolled": false
   },
   "outputs": [
    {
     "name": "stdout",
     "output_type": "stream",
     "text": [
      "Epoch:   1/100, Batch:    0/2709, Training Loss Error:  0.091, Training Time on 100 Batches: 1350 seconds\n",
      "Epoch:   1/100, Batch:  100/2709, Training Loss Error:  2.540, Training Time on 100 Batches: 1438 seconds\n",
      "Epoch:   1/100, Batch:  200/2709, Training Loss Error:  1.326, Training Time on 100 Batches: 2366 seconds\n",
      "Epoch:   1/100, Batch:  300/2709, Training Loss Error:  1.251, Training Time on 100 Batches: 1071 seconds\n",
      "Epoch:   1/100, Batch:  400/2709, Training Loss Error:  1.239, Training Time on 100 Batches: 1557 seconds\n",
      "Epoch:   1/100, Batch:  500/2709, Training Loss Error:  1.229, Training Time on 100 Batches: 1732 seconds\n",
      "Epoch:   1/100, Batch:  600/2709, Training Loss Error:  1.251, Training Time on 100 Batches: 2452 seconds\n",
      "Epoch:   1/100, Batch:  700/2709, Training Loss Error:  1.188, Training Time on 100 Batches: 1415 seconds\n",
      "Epoch:   1/100, Batch:  800/2709, Training Loss Error:  1.263, Training Time on 100 Batches: 2299 seconds\n",
      "Epoch:   1/100, Batch:  900/2709, Training Loss Error:  1.181, Training Time on 100 Batches: 6363 seconds\n",
      "Epoch:   1/100, Batch: 1000/2709, Training Loss Error:  1.209, Training Time on 100 Batches: 1352 seconds\n",
      "Epoch:   1/100, Batch: 1100/2709, Training Loss Error:  1.184, Training Time on 100 Batches: 1793 seconds\n",
      "Epoch:   1/100, Batch: 1200/2709, Training Loss Error:  1.187, Training Time on 100 Batches: 2669 seconds\n",
      "Epoch:   1/100, Batch: 1300/2709, Training Loss Error:  1.248, Training Time on 100 Batches: 1944 seconds\n",
      "Validation Loss Error:  1.193, Batch Validation Time: 1711 seconds\n",
      "I speak better now!!\n",
      "Epoch:   1/100, Batch: 1400/2709, Training Loss Error:  1.202, Training Time on 100 Batches: 2429 seconds\n",
      "Epoch:   1/100, Batch: 1500/2709, Training Loss Error:  1.198, Training Time on 100 Batches: 1582 seconds\n",
      "Epoch:   1/100, Batch: 1600/2709, Training Loss Error:  1.201, Training Time on 100 Batches: 3679 seconds\n",
      "Epoch:   1/100, Batch: 1700/2709, Training Loss Error:  1.244, Training Time on 100 Batches: 1818 seconds\n",
      "Epoch:   1/100, Batch: 1800/2709, Training Loss Error:  1.227, Training Time on 100 Batches: 2273 seconds\n",
      "Epoch:   1/100, Batch: 1900/2709, Training Loss Error:  1.284, Training Time on 100 Batches: 1459 seconds\n",
      "Epoch:   1/100, Batch: 2000/2709, Training Loss Error:  1.226, Training Time on 100 Batches: 2203 seconds\n",
      "Epoch:   1/100, Batch: 2100/2709, Training Loss Error:  1.286, Training Time on 100 Batches: 3782 seconds\n",
      "Epoch:   1/100, Batch: 2200/2709, Training Loss Error:  1.223, Training Time on 100 Batches: 4327 seconds\n",
      "Epoch:   1/100, Batch: 2300/2709, Training Loss Error:  1.209, Training Time on 100 Batches: 2455 seconds\n",
      "Epoch:   1/100, Batch: 2400/2709, Training Loss Error:  1.186, Training Time on 100 Batches: 3545 seconds\n",
      "Epoch:   1/100, Batch: 2500/2709, Training Loss Error:  1.172, Training Time on 100 Batches: 1468 seconds\n",
      "Epoch:   1/100, Batch: 2600/2709, Training Loss Error:  1.286, Training Time on 100 Batches: 2070 seconds\n",
      "Epoch:   1/100, Batch: 2700/2709, Training Loss Error:  1.214, Training Time on 100 Batches: 2523 seconds\n",
      "Validation Loss Error:  1.158, Batch Validation Time: 1705 seconds\n",
      "I speak better now!!\n",
      "Epoch:   2/100, Batch:    0/2709, Training Loss Error:  0.105, Training Time on 100 Batches: 2538 seconds\n",
      "Epoch:   2/100, Batch:  100/2709, Training Loss Error:  1.198, Training Time on 100 Batches: 1781 seconds\n",
      "Epoch:   2/100, Batch:  200/2709, Training Loss Error:  1.142, Training Time on 100 Batches: 2856 seconds\n",
      "Epoch:   2/100, Batch:  300/2709, Training Loss Error:  1.147, Training Time on 100 Batches: 1210 seconds\n",
      "Epoch:   2/100, Batch:  400/2709, Training Loss Error:  1.139, Training Time on 100 Batches: 1880 seconds\n",
      "Epoch:   2/100, Batch:  500/2709, Training Loss Error:  1.130, Training Time on 100 Batches: 2063 seconds\n",
      "Epoch:   2/100, Batch:  600/2709, Training Loss Error:  1.147, Training Time on 100 Batches: 2996 seconds\n",
      "Epoch:   2/100, Batch:  700/2709, Training Loss Error:  1.087, Training Time on 100 Batches: 1693 seconds\n",
      "Epoch:   2/100, Batch:  800/2709, Training Loss Error:  1.155, Training Time on 100 Batches: 2465 seconds\n",
      "Epoch:   2/100, Batch:  900/2709, Training Loss Error:  1.080, Training Time on 100 Batches: 9037 seconds\n",
      "Epoch:   2/100, Batch: 1000/2709, Training Loss Error:  1.098, Training Time on 100 Batches: 1738 seconds\n",
      "Epoch:   2/100, Batch: 1100/2709, Training Loss Error:  1.076, Training Time on 100 Batches: 2321 seconds\n",
      "Epoch:   2/100, Batch: 1200/2709, Training Loss Error:  1.075, Training Time on 100 Batches: 3886 seconds\n",
      "Epoch:   2/100, Batch: 1300/2709, Training Loss Error:  1.128, Training Time on 100 Batches: 2753 seconds\n",
      "Validation Loss Error:  1.082, Batch Validation Time: 1725 seconds\n",
      "I speak better now!!\n",
      "Epoch:   2/100, Batch: 1400/2709, Training Loss Error:  1.082, Training Time on 100 Batches: 3466 seconds\n",
      "Epoch:   2/100, Batch: 1500/2709, Training Loss Error:  1.076, Training Time on 100 Batches: 2053 seconds\n",
      "Epoch:   2/100, Batch: 1600/2709, Training Loss Error:  1.077, Training Time on 100 Batches: 5251 seconds\n",
      "Epoch:   2/100, Batch: 1700/2709, Training Loss Error:  1.112, Training Time on 100 Batches: 2366 seconds\n",
      "Epoch:   2/100, Batch: 1800/2709, Training Loss Error:  1.093, Training Time on 100 Batches: 3182 seconds\n",
      "Epoch:   2/100, Batch: 1900/2709, Training Loss Error:  1.139, Training Time on 100 Batches: 2015 seconds\n",
      "Epoch:   2/100, Batch: 2000/2709, Training Loss Error:  1.085, Training Time on 100 Batches: 2718 seconds\n",
      "Epoch:   2/100, Batch: 2100/2709, Training Loss Error:  1.141, Training Time on 100 Batches: 4975 seconds\n",
      "Epoch:   2/100, Batch: 2200/2709, Training Loss Error:  1.089, Training Time on 100 Batches: 5782 seconds\n",
      "Epoch:   2/100, Batch: 2300/2709, Training Loss Error:  1.084, Training Time on 100 Batches: 3148 seconds\n",
      "Epoch:   2/100, Batch: 2400/2709, Training Loss Error:  1.068, Training Time on 100 Batches: 4414 seconds\n",
      "Epoch:   2/100, Batch: 2500/2709, Training Loss Error:  1.061, Training Time on 100 Batches: 1645 seconds\n",
      "Epoch:   2/100, Batch: 2600/2709, Training Loss Error:  1.171, Training Time on 100 Batches: 2269 seconds\n",
      "Epoch:   2/100, Batch: 2700/2709, Training Loss Error:  1.082, Training Time on 100 Batches: 2956 seconds\n",
      "Validation Loss Error:  1.035, Batch Validation Time: 1727 seconds\n",
      "I speak better now!!\n",
      "Epoch:   3/100, Batch:    0/2709, Training Loss Error:  0.096, Training Time on 100 Batches: 2790 seconds\n",
      "Epoch:   3/100, Batch:  100/2709, Training Loss Error:  1.087, Training Time on 100 Batches: 1859 seconds\n",
      "Epoch:   3/100, Batch:  200/2709, Training Loss Error:  1.041, Training Time on 100 Batches: 3080 seconds\n",
      "Epoch:   3/100, Batch:  300/2709, Training Loss Error:  1.063, Training Time on 100 Batches: 1250 seconds\n",
      "Epoch:   3/100, Batch:  400/2709, Training Loss Error:  1.060, Training Time on 100 Batches: 1871 seconds\n",
      "Epoch:   3/100, Batch:  500/2709, Training Loss Error:  1.058, Training Time on 100 Batches: 2088 seconds\n",
      "Epoch:   3/100, Batch:  600/2709, Training Loss Error:  1.077, Training Time on 100 Batches: 3060 seconds\n",
      "Epoch:   3/100, Batch:  700/2709, Training Loss Error:  1.022, Training Time on 100 Batches: 1655 seconds\n",
      "Epoch:   3/100, Batch:  800/2709, Training Loss Error:  1.090, Training Time on 100 Batches: 2201 seconds\n",
      "Epoch:   3/100, Batch:  900/2709, Training Loss Error:  1.021, Training Time on 100 Batches: 8001 seconds\n",
      "Epoch:   3/100, Batch: 1000/2709, Training Loss Error:  1.040, Training Time on 100 Batches: 1583 seconds\n",
      "Epoch:   3/100, Batch: 1100/2709, Training Loss Error:  1.019, Training Time on 100 Batches: 2268 seconds\n",
      "Epoch:   3/100, Batch: 1200/2709, Training Loss Error:  1.021, Training Time on 100 Batches: 3308 seconds\n",
      "Epoch:   3/100, Batch: 1300/2709, Training Loss Error:  1.073, Training Time on 100 Batches: 2607 seconds\n",
      "Validation Loss Error:  1.032, Batch Validation Time: 1736 seconds\n",
      "I speak better now!!\n",
      "Epoch:   3/100, Batch: 1400/2709, Training Loss Error:  1.032, Training Time on 100 Batches: 3218 seconds\n",
      "Epoch:   3/100, Batch: 1500/2709, Training Loss Error:  1.028, Training Time on 100 Batches: 1993 seconds\n",
      "Epoch:   3/100, Batch: 1600/2709, Training Loss Error:  1.031, Training Time on 100 Batches: 5161 seconds\n",
      "Epoch:   3/100, Batch: 1700/2709, Training Loss Error:  1.069, Training Time on 100 Batches: 2156 seconds\n"
     ]
    },
    {
     "name": "stdout",
     "output_type": "stream",
     "text": [
      "Epoch:   3/100, Batch: 1800/2709, Training Loss Error:  1.051, Training Time on 100 Batches: 2865 seconds\n",
      "Epoch:   3/100, Batch: 1900/2709, Training Loss Error:  1.098, Training Time on 100 Batches: 1716 seconds\n",
      "Epoch:   3/100, Batch: 2000/2709, Training Loss Error:  1.047, Training Time on 100 Batches: 2666 seconds\n",
      "Epoch:   3/100, Batch: 2100/2709, Training Loss Error:  1.103, Training Time on 100 Batches: 4994 seconds\n",
      "Epoch:   3/100, Batch: 2200/2709, Training Loss Error:  1.052, Training Time on 100 Batches: 5664 seconds\n",
      "Epoch:   3/100, Batch: 2300/2709, Training Loss Error:  1.050, Training Time on 100 Batches: 3288 seconds\n",
      "Epoch:   3/100, Batch: 2400/2709, Training Loss Error:  1.036, Training Time on 100 Batches: 5331 seconds\n",
      "Epoch:   3/100, Batch: 2500/2709, Training Loss Error:  1.029, Training Time on 100 Batches: 2101 seconds\n",
      "Epoch:   3/100, Batch: 2600/2709, Training Loss Error:  1.136, Training Time on 100 Batches: 2903 seconds\n",
      "Epoch:   3/100, Batch: 2700/2709, Training Loss Error:  1.051, Training Time on 100 Batches: 3448 seconds\n",
      "Validation Loss Error:  1.003, Batch Validation Time: 1760 seconds\n",
      "I speak better now!!\n",
      "Epoch:   4/100, Batch:    0/2709, Training Loss Error:  0.094, Training Time on 100 Batches: 2953 seconds\n",
      "Epoch:   4/100, Batch:  100/2709, Training Loss Error:  1.058, Training Time on 100 Batches: 1897 seconds\n",
      "Epoch:   4/100, Batch:  200/2709, Training Loss Error:  1.014, Training Time on 100 Batches: 3872 seconds\n",
      "Epoch:   4/100, Batch:  300/2709, Training Loss Error:  1.035, Training Time on 100 Batches: 1443 seconds\n",
      "Epoch:   4/100, Batch:  400/2709, Training Loss Error:  1.033, Training Time on 100 Batches: 2317 seconds\n",
      "Epoch:   4/100, Batch:  500/2709, Training Loss Error:  1.033, Training Time on 100 Batches: 2529 seconds\n",
      "Epoch:   4/100, Batch:  600/2709, Training Loss Error:  1.055, Training Time on 100 Batches: 3509 seconds\n",
      "Epoch:   4/100, Batch:  700/2709, Training Loss Error:  0.999, Training Time on 100 Batches: 2178 seconds\n",
      "Epoch:   4/100, Batch:  800/2709, Training Loss Error:  1.064, Training Time on 100 Batches: 2863 seconds\n",
      "Epoch:   4/100, Batch:  900/2709, Training Loss Error:  0.998, Training Time on 100 Batches: 11283 seconds\n",
      "Epoch:   4/100, Batch: 1000/2709, Training Loss Error:  1.018, Training Time on 100 Batches: 2038 seconds\n",
      "Epoch:   4/100, Batch: 1100/2709, Training Loss Error:  0.996, Training Time on 100 Batches: 2605 seconds\n",
      "Epoch:   4/100, Batch: 1200/2709, Training Loss Error:  0.999, Training Time on 100 Batches: 4046 seconds\n",
      "Epoch:   4/100, Batch: 1300/2709, Training Loss Error:  1.051, Training Time on 100 Batches: 2924 seconds\n",
      "Validation Loss Error:  1.059, Batch Validation Time: 1746 seconds\n",
      "Sorry I do not speak better, I need to practice more.\n",
      "Epoch:   4/100, Batch: 1400/2709, Training Loss Error:  1.010, Training Time on 100 Batches: 3490 seconds\n",
      "Epoch:   4/100, Batch: 1500/2709, Training Loss Error:  1.008, Training Time on 100 Batches: 2360 seconds\n",
      "Epoch:   4/100, Batch: 1600/2709, Training Loss Error:  1.012, Training Time on 100 Batches: 5303 seconds\n",
      "Epoch:   4/100, Batch: 1700/2709, Training Loss Error:  1.049, Training Time on 100 Batches: 3038 seconds\n",
      "Epoch:   4/100, Batch: 1800/2709, Training Loss Error:  1.031, Training Time on 100 Batches: 3077 seconds\n",
      "Epoch:   4/100, Batch: 1900/2709, Training Loss Error:  1.078, Training Time on 100 Batches: 2151 seconds\n",
      "Epoch:   4/100, Batch: 2000/2709, Training Loss Error:  1.028, Training Time on 100 Batches: 3434 seconds\n",
      "Epoch:   4/100, Batch: 2100/2709, Training Loss Error:  1.084, Training Time on 100 Batches: 5740 seconds\n",
      "Epoch:   4/100, Batch: 2200/2709, Training Loss Error:  1.034, Training Time on 100 Batches: 6376 seconds\n",
      "Epoch:   4/100, Batch: 2300/2709, Training Loss Error:  1.031, Training Time on 100 Batches: 3652 seconds\n",
      "Epoch:   4/100, Batch: 2400/2709, Training Loss Error:  1.018, Training Time on 100 Batches: 5267 seconds\n",
      "Epoch:   4/100, Batch: 2500/2709, Training Loss Error:  1.012, Training Time on 100 Batches: 2259 seconds\n",
      "Epoch:   4/100, Batch: 2600/2709, Training Loss Error:  1.116, Training Time on 100 Batches: 2984 seconds\n",
      "Epoch:   4/100, Batch: 2700/2709, Training Loss Error:  1.035, Training Time on 100 Batches: 3658 seconds\n",
      "Validation Loss Error:  1.064, Batch Validation Time: 1776 seconds\n",
      "Sorry I do not speak better, I need to practice more.\n",
      "Epoch:   5/100, Batch:    0/2709, Training Loss Error:  0.093, Training Time on 100 Batches: 3003 seconds\n",
      "Epoch:   5/100, Batch:  100/2709, Training Loss Error:  1.045, Training Time on 100 Batches: 2331 seconds\n",
      "Epoch:   5/100, Batch:  200/2709, Training Loss Error:  0.999, Training Time on 100 Batches: 3842 seconds\n",
      "Epoch:   5/100, Batch:  300/2709, Training Loss Error:  1.022, Training Time on 100 Batches: 1693 seconds\n",
      "Epoch:   5/100, Batch:  400/2709, Training Loss Error:  1.019, Training Time on 100 Batches: 2379 seconds\n",
      "Epoch:   5/100, Batch:  500/2709, Training Loss Error:  1.021, Training Time on 100 Batches: 2743 seconds\n",
      "Epoch:   5/100, Batch:  600/2709, Training Loss Error:  1.040, Training Time on 100 Batches: 3224 seconds\n",
      "Epoch:   5/100, Batch:  700/2709, Training Loss Error:  0.987, Training Time on 100 Batches: 1832 seconds\n",
      "Epoch:   5/100, Batch:  800/2709, Training Loss Error:  1.050, Training Time on 100 Batches: 2943 seconds\n",
      "Epoch:   5/100, Batch:  900/2709, Training Loss Error:  0.986, Training Time on 100 Batches: 12408 seconds\n",
      "Epoch:   5/100, Batch: 1000/2709, Training Loss Error:  1.007, Training Time on 100 Batches: 2339 seconds\n",
      "Epoch:   5/100, Batch: 1100/2709, Training Loss Error:  0.985, Training Time on 100 Batches: 2950 seconds\n",
      "Epoch:   5/100, Batch: 1200/2709, Training Loss Error:  0.989, Training Time on 100 Batches: 3811 seconds\n",
      "Epoch:   5/100, Batch: 1300/2709, Training Loss Error:  1.038, Training Time on 100 Batches: 3623 seconds\n",
      "Validation Loss Error:  0.994, Batch Validation Time: 1790 seconds\n",
      "I speak better now!!\n",
      "Epoch:   5/100, Batch: 1400/2709, Training Loss Error:  0.999, Training Time on 100 Batches: 3961 seconds\n",
      "Epoch:   5/100, Batch: 1500/2709, Training Loss Error:  1.000, Training Time on 100 Batches: 2897 seconds\n",
      "Epoch:   5/100, Batch: 1600/2709, Training Loss Error:  1.003, Training Time on 100 Batches: 5642 seconds\n",
      "Epoch:   5/100, Batch: 1700/2709, Training Loss Error:  1.038, Training Time on 100 Batches: 2847 seconds\n",
      "Epoch:   5/100, Batch: 1800/2709, Training Loss Error:  1.020, Training Time on 100 Batches: 3532 seconds\n",
      "Epoch:   5/100, Batch: 1900/2709, Training Loss Error:  1.068, Training Time on 100 Batches: 2345 seconds\n",
      "Epoch:   5/100, Batch: 2000/2709, Training Loss Error:  1.018, Training Time on 100 Batches: 3974 seconds\n",
      "Epoch:   5/100, Batch: 2100/2709, Training Loss Error:  1.073, Training Time on 100 Batches: 7593 seconds\n",
      "Epoch:   5/100, Batch: 2200/2709, Training Loss Error:  1.024, Training Time on 100 Batches: 6683 seconds\n",
      "Epoch:   5/100, Batch: 2300/2709, Training Loss Error:  1.022, Training Time on 100 Batches: 4573 seconds\n",
      "Epoch:   5/100, Batch: 2400/2709, Training Loss Error:  1.009, Training Time on 100 Batches: 7501 seconds\n",
      "Epoch:   5/100, Batch: 2500/2709, Training Loss Error:  1.003, Training Time on 100 Batches: 2465 seconds\n",
      "Epoch:   5/100, Batch: 2600/2709, Training Loss Error:  1.107, Training Time on 100 Batches: 3776 seconds\n",
      "Epoch:   5/100, Batch: 2700/2709, Training Loss Error:  1.030, Training Time on 100 Batches: 5538 seconds\n",
      "Validation Loss Error:  0.999, Batch Validation Time: 1860 seconds\n",
      "Sorry I do not speak better, I need to practice more.\n",
      "Epoch:   6/100, Batch:    0/2709, Training Loss Error:  0.092, Training Time on 100 Batches: 4984 seconds\n",
      "Epoch:   6/100, Batch:  100/2709, Training Loss Error:  1.036, Training Time on 100 Batches: 3319 seconds\n",
      "Epoch:   6/100, Batch:  200/2709, Training Loss Error:  0.992, Training Time on 100 Batches: 5410 seconds\n",
      "Epoch:   6/100, Batch:  300/2709, Training Loss Error:  1.014, Training Time on 100 Batches: 2422 seconds\n",
      "Epoch:   6/100, Batch:  400/2709, Training Loss Error:  1.012, Training Time on 100 Batches: 3645 seconds\n",
      "Epoch:   6/100, Batch:  500/2709, Training Loss Error:  1.012, Training Time on 100 Batches: 4103 seconds\n",
      "Epoch:   6/100, Batch:  600/2709, Training Loss Error:  1.032, Training Time on 100 Batches: 6071 seconds\n"
     ]
    },
    {
     "name": "stdout",
     "output_type": "stream",
     "text": [
      "Epoch:   6/100, Batch:  700/2709, Training Loss Error:  0.979, Training Time on 100 Batches: 3516 seconds\n",
      "Epoch:   6/100, Batch:  800/2709, Training Loss Error:  1.044, Training Time on 100 Batches: 4983 seconds\n",
      "Epoch:   6/100, Batch:  900/2709, Training Loss Error:  0.979, Training Time on 100 Batches: 15871 seconds\n",
      "Epoch:   6/100, Batch: 1000/2709, Training Loss Error:  0.998, Training Time on 100 Batches: 3279 seconds\n",
      "Epoch:   6/100, Batch: 1100/2709, Training Loss Error:  0.978, Training Time on 100 Batches: 4259 seconds\n",
      "Epoch:   6/100, Batch: 1200/2709, Training Loss Error:  0.983, Training Time on 100 Batches: 6021 seconds\n",
      "Epoch:   6/100, Batch: 1300/2709, Training Loss Error:  1.032, Training Time on 100 Batches: 4528 seconds\n"
     ]
    }
   ],
   "source": [
    "batch_index_check_training_loss = 100\n",
    "batch_index_check_validation_loss = ((len(training_questions)) // batch_size // 2) - 1\n",
    "total_training_loss_error = 0\n",
    "list_validation_loss_error = []\n",
    "early_stopping_check = 0\n",
    "early_stopping_stop = 1000\n",
    "checkpoint = \"chatbot_weights.ckpt\" # For Windows users, replace this line of code by: checkpoint = \"./chatbot_weights.ckpt\"\n",
    "session.run(tf.global_variables_initializer())\n",
    "for epoch in range(1, epochs + 1):\n",
    "    for batch_index, (padded_questions_in_batch, padded_answers_in_batch) in enumerate(split_into_batches(training_questions, training_answers, batch_size)):\n",
    "        starting_time = time.time()\n",
    "        _, batch_training_loss_error = session.run([optimizer_gradient_clipping, loss_error], {inputs: padded_questions_in_batch,\n",
    "                                                                                               targets: padded_answers_in_batch,\n",
    "                                                                                               lr: learning_rate,\n",
    "                                                                                               sequence_length: padded_answers_in_batch.shape[1],\n",
    "                                                                                               keep_prob: keep_probability})\n",
    "        total_training_loss_error += batch_training_loss_error\n",
    "        ending_time = time.time()\n",
    "        batch_time = ending_time - starting_time\n",
    "        if batch_index % batch_index_check_training_loss == 0:\n",
    "            print('Epoch: {:>3}/{}, Batch: {:>4}/{}, Training Loss Error: {:>6.3f}, Training Time on 100 Batches: {:d} seconds'.format(epoch,\n",
    "                                                                                                                                       epochs,\n",
    "                                                                                                                                       batch_index,\n",
    "                                                                                                                                       len(training_questions) // batch_size,\n",
    "                                                                                                                                       total_training_loss_error / batch_index_check_training_loss,\n",
    "                                                                                                                                       int(batch_time * batch_index_check_training_loss)))\n",
    "            total_training_loss_error = 0\n",
    "        if batch_index % batch_index_check_validation_loss == 0 and batch_index > 0:\n",
    "            total_validation_loss_error = 0\n",
    "            starting_time = time.time()\n",
    "            for batch_index_validation, (padded_questions_in_batch, padded_answers_in_batch) in enumerate(split_into_batches(validation_questions, validation_answers, batch_size)):\n",
    "                batch_validation_loss_error = session.run(loss_error, {inputs: padded_questions_in_batch,\n",
    "                                                                       targets: padded_answers_in_batch,\n",
    "                                                                       lr: learning_rate,\n",
    "                                                                       sequence_length: padded_answers_in_batch.shape[1],\n",
    "                                                                       keep_prob: 1})\n",
    "                total_validation_loss_error += batch_validation_loss_error\n",
    "            ending_time = time.time()\n",
    "            batch_time = ending_time - starting_time\n",
    "            average_validation_loss_error = total_validation_loss_error / (len(validation_questions) / batch_size)\n",
    "            print('Validation Loss Error: {:>6.3f}, Batch Validation Time: {:d} seconds'.format(average_validation_loss_error, int(batch_time)))\n",
    "            learning_rate *= learning_rate_decay\n",
    "            if learning_rate < min_learning_rate:\n",
    "                learning_rate = min_learning_rate\n",
    "            list_validation_loss_error.append(average_validation_loss_error)\n",
    "            if average_validation_loss_error <= min(list_validation_loss_error):\n",
    "                print('I speak better now!!')\n",
    "                early_stopping_check = 0\n",
    "                saver = tf.train.Saver()\n",
    "                saver.save(session, checkpoint)\n",
    "            else:\n",
    "                print(\"Sorry I do not speak better, I need to practice more.\")\n",
    "                early_stopping_check += 1\n",
    "                if early_stopping_check == early_stopping_stop:\n",
    "                    break\n",
    "    if early_stopping_check == early_stopping_stop:\n",
    "        print(\"My apologies, I cannot speak better anymore. This is the best I can do.\")\n",
    "        break\n",
    "print(\"Game Over\")"
   ]
  },
  {
   "cell_type": "markdown",
   "metadata": {},
   "source": [
    "# Validation"
   ]
  },
  {
   "cell_type": "code",
   "execution_count": 33,
   "metadata": {
    "collapsed": true
   },
   "outputs": [],
   "source": [
    "# Loading the weights and Running the session\n",
    "checkpoint = \"./chatbot_weights.ckpt\"\n",
    "session = tf.InteractiveSession()\n",
    "session.run(tf.global_variables_initializer())\n",
    "saver = tf.train.Saver()\n",
    "saver.restore(session, checkpoint)\n",
    " \n",
    "# Converting the questions from strings to lists of encoding integers\n",
    "def convert_string2int(question, word2int):\n",
    "    question = clean_text(question)\n",
    "    return [word2int.get(word, word2int['<OUT>']) for word in question.split()]"
   ]
  },
  {
   "cell_type": "code",
   "execution_count": 35,
   "metadata": {},
   "outputs": [
    {
     "name": "stdout",
     "output_type": "stream",
     "text": [
      "You: hello\n",
      "ChatBot:  I am not a out.\n",
      "You: My name is barbara what is yours?\n",
      "ChatBot:  I don't know I am not a out.\n",
      "You: How can I call you?\n",
      "ChatBot:  I am not a out.\n",
      "You: Are you hungry?\n",
      "ChatBot:  I am not.\n",
      "You: Do you fell like eating some pizza tonight?\n",
      "ChatBot:  I don't know.\n",
      "You: Are you Jon Snow?\n",
      "ChatBot:  I don't know.\n",
      "You: Do you wanna build a snowman?\n",
      "ChatBot:  I am not a out.\n",
      "You: Come on let's go and play\n",
      "ChatBot:  I don't know.\n",
      "You: Are you sitted right now?\n",
      "ChatBot:  I am not a little out.\n",
      "You: I am really sad about your performance, you should go to bed\n",
      "ChatBot:  I am not sorry.\n",
      "You: Goodbye\n"
     ]
    }
   ],
   "source": [
    "# Setting up the chat\n",
    "while(True):\n",
    "    question = input(\"You: \")\n",
    "    if question == 'Goodbye':\n",
    "        break\n",
    "    question = convert_string2int(question, questionswords2int)\n",
    "    question = question + [questionswords2int['<PAD>']] * (25 - len(question))\n",
    "    fake_batch = np.zeros((batch_size, 25))\n",
    "    fake_batch[0] = question\n",
    "    predicted_answer = session.run(test_predictions, {inputs: fake_batch, keep_prob: 0.5})[0]\n",
    "    answer = ''\n",
    "    for i in np.argmax(predicted_answer, 1):\n",
    "        if answersints2word[i] == 'i':\n",
    "            token = ' I'\n",
    "        elif answersints2word[i] == '<EOS>':\n",
    "            token = '.'\n",
    "        elif answersints2word[i] == '<OUT>':\n",
    "            token = ' out'\n",
    "        else:\n",
    "            token = ' ' + answersints2word[i]\n",
    "        answer += token\n",
    "        if token == '.':\n",
    "            break\n",
    "    print('ChatBot: ' + answer)"
   ]
  }
 ],
 "metadata": {
  "kernelspec": {
   "display_name": "Python 3",
   "language": "python",
   "name": "python3"
  },
  "language_info": {
   "codemirror_mode": {
    "name": "ipython",
    "version": 3
   },
   "file_extension": ".py",
   "mimetype": "text/x-python",
   "name": "python",
   "nbconvert_exporter": "python",
   "pygments_lexer": "ipython3",
   "version": "3.6.3"
  }
 },
 "nbformat": 4,
 "nbformat_minor": 2
}
